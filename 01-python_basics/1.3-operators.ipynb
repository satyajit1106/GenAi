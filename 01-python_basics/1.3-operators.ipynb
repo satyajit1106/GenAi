{
 "cells": [
  {
   "cell_type": "markdown",
   "metadata": {},
   "source": [
    "### operator\n"
   ]
  },
  {
   "cell_type": "markdown",
   "metadata": {},
   "source": [
    "Arithmetic operator\n"
   ]
  },
  {
   "cell_type": "markdown",
   "metadata": {},
   "source": [
    "+\tAddition\tx + y\t\n",
    "+\tSubtraction\tx - y\t\n",
    "+\tMultiplication\tx * y\t\n",
    "+\tDivision\tx / y\t\n",
    "+\tModulus\tx % y\t\n",
    "+\tExponentiation\tx ** y\t\n",
    "+\tFloor division\tx // y"
   ]
  },
  {
   "cell_type": "markdown",
   "metadata": {},
   "source": [
    "comparision operator"
   ]
  },
  {
   "cell_type": "markdown",
   "metadata": {},
   "source": [
    "+ Equal\tx == y\t\n",
    "+ Not equal\tx != y\t\n",
    "+ Greater than\tx > y\t\n",
    "+ Less than\tx < y\t\n",
    "+ Greater than or equal to\tx >= y\t\n",
    "+ Less than or equal to\tx <= y"
   ]
  },
  {
   "cell_type": "markdown",
   "metadata": {},
   "source": [
    "assignment operator"
   ]
  },
  {
   "cell_type": "markdown",
   "metadata": {},
   "source": [
    "\n",
    "+ x = 5\t    ,   x = 5\t\n",
    "+ x += 3\t,   x = x + 3\t\n",
    "+ x -= 3\t,   x = x - 3\t\n",
    "+ x *= 3\t,   x = x * 3\t\n",
    "+ x /= 3\t,   x = x / 3\t\n",
    "+ x %= 3\t,   x = x % 3\t\n",
    "+ x //= 3\t,   x = x // 3\t\n",
    "+ x **= 3\t,   x = x ** 3\t\n",
    "+ x &= 3\t,   x = x & 3\t\n",
    "+ x |= 3\t,   x = x | 3\t\n",
    "+ x ^= 3\t,   x = x ^ 3\t\n",
    "+ x >>= 3\t,   x = x >> 3\t\n",
    "+ x <<= 3\t,   x = x << 3\t\n"
   ]
  },
  {
   "cell_type": "markdown",
   "metadata": {},
   "source": [
    "Logical operator"
   ]
  },
  {
   "cell_type": "markdown",
   "metadata": {},
   "source": [
    "+ and \tReturns True if both statements are true\tx < 5 and  x < 10\t\n",
    "+ or\tReturns True if one of the statements is true\tx < 5 or x < 4\t\n",
    "+ not\tReverse the result, returns False if the result is true\tnot(x < 5 and x < 10)"
   ]
  },
  {
   "cell_type": "markdown",
   "metadata": {},
   "source": []
  }
 ],
 "metadata": {
  "language_info": {
   "name": "python"
  }
 },
 "nbformat": 4,
 "nbformat_minor": 2
}
