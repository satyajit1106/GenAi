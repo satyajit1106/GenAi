{
 "cells": [
  {
   "cell_type": "markdown",
   "metadata": {},
   "source": [
    "### Lemmitization\n",
    "##### it is used in Q&A, ChatBot, text, Summarization"
   ]
  },
  {
   "cell_type": "code",
   "execution_count": 2,
   "metadata": {},
   "outputs": [],
   "source": [
    "from nltk.stem import WordNetLemmatizer\n",
    "lemmatization = WordNetLemmatizer()\n",
    "words = [\"eating\", \"eat\", \"eaten\", \"go\", \"went\", \"gone\", \"run\", \"running\", \"runs\", \"ran\"]"
   ]
  },
  {
   "cell_type": "code",
   "execution_count": 9,
   "metadata": {},
   "outputs": [
    {
     "name": "stdout",
     "output_type": "stream",
     "text": [
      "eating--->eat\n",
      "eat--->eat\n",
      "eaten--->eat\n",
      "go--->go\n",
      "went--->go\n",
      "gone--->go\n",
      "run--->run\n",
      "running--->run\n",
      "runs--->run\n",
      "ran--->run\n"
     ]
    },
    {
     "data": {
      "text/plain": [
       "' \\n    Noun - n, Verb - v, Adjective - a, Adverb - r\\n'"
      ]
     },
     "execution_count": 9,
     "metadata": {},
     "output_type": "execute_result"
    }
   ],
   "source": [
    "for word in words:\n",
    "    print(word+\"--->\"+lemmatization.lemmatize(word, pos='v'))\n",
    "\n",
    "#  Noun - n, Verb - v, Adjective - a, Adverb - r\n"
   ]
  }
 ],
 "metadata": {
  "kernelspec": {
   "display_name": "venv",
   "language": "python",
   "name": "python3"
  },
  "language_info": {
   "codemirror_mode": {
    "name": "ipython",
    "version": 3
   },
   "file_extension": ".py",
   "mimetype": "text/x-python",
   "name": "python",
   "nbconvert_exporter": "python",
   "pygments_lexer": "ipython3",
   "version": "3.12.0"
  }
 },
 "nbformat": 4,
 "nbformat_minor": 2
}
