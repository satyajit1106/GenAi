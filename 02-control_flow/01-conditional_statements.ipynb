{
 "cells": [
  {
   "cell_type": "markdown",
   "metadata": {},
   "source": [
    "### conditional statements in python"
   ]
  },
  {
   "cell_type": "markdown",
   "metadata": {},
   "source": [
    "leap year"
   ]
  },
  {
   "cell_type": "code",
   "execution_count": 7,
   "metadata": {},
   "outputs": [
    {
     "name": "stdout",
     "output_type": "stream",
     "text": [
      "2200 not a leap year\n"
     ]
    }
   ],
   "source": [
    "year = int(input(\"enter the year\"))\n",
    "\n",
    "if year % 4 == 0:\n",
    "    if year % 400 == 0:\n",
    "        print(year, \"leap year\") \n",
    "    else:\n",
    "        print(year, \"not a leap year\") \n",
    "else:\n",
    "    print(year, \"not a leap year\")    "
   ]
  },
  {
   "cell_type": "markdown",
   "metadata": {},
   "source": [
    "price list"
   ]
  },
  {
   "cell_type": "code",
   "execution_count": 9,
   "metadata": {},
   "outputs": [
    {
     "name": "stdout",
     "output_type": "stream",
     "text": [
      "$20\n"
     ]
    }
   ],
   "source": [
    "age = int(input(\"enter your age\"))\n",
    "is_student = input(\"are you a student? (yes/no): \").lower\n",
    "\n",
    "if (age < 10):\n",
    "    price = \"free\"\n",
    "elif (age > 10 and age < 15):\n",
    "    price = \"$10\"\n",
    "elif (age > 15 and age < 20):\n",
    "    if (is_student):\n",
    "        price = \"$15\"\n",
    "    else:\n",
    "        price = \"$20\"\n",
    "elif (age > 21):\n",
    "    if (is_student):\n",
    "        print(\"$20\")\n",
    "    else:\n",
    "        print(\"30\")\n",
    "        "
   ]
  }
 ],
 "metadata": {
  "kernelspec": {
   "display_name": "venv",
   "language": "python",
   "name": "python3"
  },
  "language_info": {
   "codemirror_mode": {
    "name": "ipython",
    "version": 3
   },
   "file_extension": ".py",
   "mimetype": "text/x-python",
   "name": "python",
   "nbconvert_exporter": "python",
   "pygments_lexer": "ipython3",
   "version": "3.12.0"
  }
 },
 "nbformat": 4,
 "nbformat_minor": 2
}
