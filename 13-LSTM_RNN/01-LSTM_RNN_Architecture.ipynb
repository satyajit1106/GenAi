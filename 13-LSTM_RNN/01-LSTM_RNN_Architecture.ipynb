{
 "cells": [
  {
   "cell_type": "markdown",
   "id": "ba21a97b",
   "metadata": {},
   "source": [
    "### LSTM"
   ]
  },
  {
   "cell_type": "markdown",
   "id": "f6d4570a",
   "metadata": {},
   "source": [
    "- there are 3 different segremnts in the lstm rnn architecute and those are.\n",
    "* Forget Gate\n",
    "* Input Gate/ Candidate Gate\n",
    "* Output Gate\n",
    "\n",
    "- In LSTM RNN we have two feedback loops one is short term memory loop and the next is the long term memory loop, such that it should carry both the long and the short term context of the sentence for the sufficient and reasonable predication of the word."
   ]
  },
  {
   "cell_type": "markdown",
   "id": "d5388dc0",
   "metadata": {},
   "source": [
    "#### Forget Gate\n",
    "\n",
    "- ht-1 is the hidden state of the previous time stamp\n",
    "- xt is the word passed as i/p in the current time stamp"
   ]
  }
 ],
 "metadata": {
  "language_info": {
   "name": "python"
  }
 },
 "nbformat": 4,
 "nbformat_minor": 5
}
