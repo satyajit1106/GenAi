{
 "cells": [
  {
   "cell_type": "markdown",
   "metadata": {},
   "source": [
    "## dictionaries in Python \n",
    "- here the data is stored in key value pair"
   ]
  },
  {
   "cell_type": "code",
   "execution_count": null,
   "metadata": {},
   "outputs": [
    {
     "name": "stdout",
     "output_type": "stream",
     "text": [
      "<class 'dict'>\n"
     ]
    }
   ],
   "source": [
    "# Create the empty dictionary using the class dict\n",
    "empty_dict = dict()\n",
    "print(type(empty_dict))"
   ]
  },
  {
   "cell_type": "code",
   "execution_count": null,
   "metadata": {},
   "outputs": [
    {
     "name": "stdout",
     "output_type": "stream",
     "text": [
      "<class 'dict'>\n"
     ]
    }
   ],
   "source": [
    "# dictionary is created using the flower brackets {}\n",
    "dictionary = {}\n",
    "print(type(dictionary))"
   ]
  },
  {
   "cell_type": "code",
   "execution_count": 9,
   "metadata": {},
   "outputs": [
    {
     "name": "stdout",
     "output_type": "stream",
     "text": [
      "{'name': 'Satyajit', 'age': 21, 'grade': 'A'}\n",
      "Satyajit\n"
     ]
    }
   ],
   "source": [
    "student = {\n",
    "    \"name\": \"Satyajit\",\n",
    "    \"age\": 21,\n",
    "    \"grade\":'A'\n",
    "}\n",
    "print(student)\n",
    "print(student[\"name\"])"
   ]
  },
  {
   "cell_type": "code",
   "execution_count": 11,
   "metadata": {},
   "outputs": [
    {
     "name": "stdout",
     "output_type": "stream",
     "text": [
      "Satyajit\n",
      "None\n",
      "NA\n"
     ]
    }
   ],
   "source": [
    "print(student.get(\"name\"))\n",
    "print(student.get(\"last_name\"))\n",
    "print(student.get(\"last_name\", \"NA\")) #give the default value for the key not available as NA"
   ]
  },
  {
   "cell_type": "code",
   "execution_count": 17,
   "metadata": {},
   "outputs": [
    {
     "name": "stdout",
     "output_type": "stream",
     "text": [
      "{'name': 'Satyajit Patra', 'age': 20, 'grade': 'A'}\n"
     ]
    }
   ],
   "source": [
    "# modilfing the dictionary\n",
    "# dictionary is mutable\n",
    "\n",
    "student[\"name\"] = \"Satyajit Patra\"\n",
    "student[\"age\"] = 20\n",
    "student[\"grade\"] = 'A'\n",
    "print(student)"
   ]
  },
  {
   "cell_type": "code",
   "execution_count": 18,
   "metadata": {},
   "outputs": [
    {
     "name": "stdout",
     "output_type": "stream",
     "text": [
      "{'name': 'Satyajit Patra', 'age': 20}\n"
     ]
    }
   ],
   "source": [
    "del student[\"grade\"]\n",
    "print(student)"
   ]
  },
  {
   "cell_type": "code",
   "execution_count": 19,
   "metadata": {},
   "outputs": [
    {
     "name": "stdout",
     "output_type": "stream",
     "text": [
      "dict_keys(['name', 'age'])\n",
      "dict_values(['Satyajit Patra', 20])\n",
      "dict_items([('name', 'Satyajit Patra'), ('age', 20)])\n"
     ]
    }
   ],
   "source": [
    "keys = student.keys()\n",
    "print(keys)\n",
    "\n",
    "values = student.values()\n",
    "print(values)\n",
    "\n",
    "items = student.items()\n",
    "print(items)"
   ]
  },
  {
   "cell_type": "code",
   "execution_count": null,
   "metadata": {},
   "outputs": [
    {
     "name": "stdout",
     "output_type": "stream",
     "text": [
      "{'name': 'Satyajit Patra', 'age': 20, 'grades': 'B'}\n",
      "{'name': 'Satyajit Patra', 'age': 20, 'grades': 'B'}\n"
     ]
    }
   ],
   "source": [
    "# since we create the copy of the list, as we change the value of the original list the copied list gets changed\n",
    "student_copy1 = student\n",
    "student[\"grades\"] = \"B\"\n",
    "print(student_copy1)\n",
    "print(student)"
   ]
  },
  {
   "cell_type": "code",
   "execution_count": 25,
   "metadata": {},
   "outputs": [
    {
     "name": "stdout",
     "output_type": "stream",
     "text": [
      "{'name': 'Satyajit Patra', 'age': 20, 'grades': 'A'}\n",
      "{'name': 'Satyajit Patra', 'age': 20, 'grades': 'A'}\n"
     ]
    }
   ],
   "source": [
    "# we use shallow copy using the .copy() method \n",
    "student_copy2 = student.copy()\n",
    "student[\"grades\"] = \"A\"\n",
    "print(student_copy2)\n",
    "print(student)"
   ]
  },
  {
   "cell_type": "code",
   "execution_count": null,
   "metadata": {},
   "outputs": [
    {
     "name": "stdout",
     "output_type": "stream",
     "text": [
      "{'name': 'satyajit', 'age': 20, 'grades': 'A'}\n",
      "{'name': 'Satyajit Patra', 'age': 20, 'grades': 'A'}\n"
     ]
    }
   ],
   "source": [
    "student[\"name\"] = \"satyajit\"\n",
    "print(student)  # {'name': 'satyajit'}\n",
    "print(student_copy2) # copy ke aandar aabhi bhi old value hai"
   ]
  },
  {
   "cell_type": "code",
   "execution_count": 28,
   "metadata": {},
   "outputs": [
    {
     "name": "stdout",
     "output_type": "stream",
     "text": [
      "name\n",
      "age\n",
      "grades\n"
     ]
    }
   ],
   "source": [
    "# iterating over keys\n",
    "for keys in student.keys():\n",
    "    print(keys)"
   ]
  },
  {
   "cell_type": "code",
   "execution_count": 30,
   "metadata": {},
   "outputs": [
    {
     "name": "stdout",
     "output_type": "stream",
     "text": [
      "name : satyajit\n",
      "age : 20\n",
      "grades : A\n"
     ]
    }
   ],
   "source": [
    "for keys, values in student.items():\n",
    "    print(f\"{keys} : {values}\")"
   ]
  },
  {
   "cell_type": "code",
   "execution_count": 36,
   "metadata": {},
   "outputs": [
    {
     "name": "stdout",
     "output_type": "stream",
     "text": [
      "{'student1': {'name': 'satyajit', 'age': 21}, 'student2': {'name': 'parth', 'age': 20}, 'student3': {'name': 'sachin', 'age': 23}}\n"
     ]
    }
   ],
   "source": [
    "# nested dictionaries\n",
    "nested_dict = {\n",
    "    \"student1\" : {\"name\" : \"satyajit\", \"age\": 21},\n",
    "    \"student2\" : {\"name\" : \"parth\", \"age\": 20},\n",
    "    \"student3\" : {\"name\" : \"sachin\", \"age\": 23}  \n",
    "}\n",
    "print(nested_dict)"
   ]
  },
  {
   "cell_type": "code",
   "execution_count": 38,
   "metadata": {},
   "outputs": [
    {
     "name": "stdout",
     "output_type": "stream",
     "text": [
      "parth\n",
      "23\n"
     ]
    }
   ],
   "source": [
    "print(nested_dict[\"student2\"][\"name\"])\n",
    "print(nested_dict[\"student3\"][\"age\"])"
   ]
  },
  {
   "cell_type": "code",
   "execution_count": 39,
   "metadata": {},
   "outputs": [
    {
     "data": {
      "text/plain": [
       "dict_items([('student1', {'name': 'satyajit', 'age': 21}), ('student2', {'name': 'parth', 'age': 20}), ('student3', {'name': 'sachin', 'age': 23})])"
      ]
     },
     "execution_count": 39,
     "metadata": {},
     "output_type": "execute_result"
    }
   ],
   "source": [
    "nested_dict.items()"
   ]
  },
  {
   "cell_type": "code",
   "execution_count": 44,
   "metadata": {},
   "outputs": [
    {
     "name": "stdout",
     "output_type": "stream",
     "text": [
      "student1,{'name': 'satyajit', 'age': 21}\n",
      "name, satyajit\n",
      "age, 21\n",
      "student2,{'name': 'parth', 'age': 20}\n",
      "name, parth\n",
      "age, 20\n",
      "student3,{'name': 'sachin', 'age': 23}\n",
      "name, sachin\n",
      "age, 23\n"
     ]
    }
   ],
   "source": [
    "for students_id, students_values in nested_dict.items():\n",
    "    print(f\"{students_id},{students_values}\")\n",
    "    for keys, values in students_values.items():\n",
    "        print(f\"{keys}, {values}\")"
   ]
  },
  {
   "cell_type": "markdown",
   "metadata": {},
   "source": [
    "### Dictionary Comprehension"
   ]
  },
  {
   "cell_type": "code",
   "execution_count": 46,
   "metadata": {},
   "outputs": [
    {
     "name": "stdout",
     "output_type": "stream",
     "text": [
      "{0: 0, 1: 1, 2: 4, 3: 9, 4: 16}\n"
     ]
    }
   ],
   "source": [
    "# square of i numbers\n",
    "dict_comp = { i:i**2 for i in range(5)}\n",
    "print(dict_comp)"
   ]
  },
  {
   "cell_type": "code",
   "execution_count": null,
   "metadata": {},
   "outputs": [
    {
     "name": "stdout",
     "output_type": "stream",
     "text": [
      "{0: 0, 2: 4, 4: 16, 6: 36, 8: 64}\n"
     ]
    }
   ],
   "source": [
    "# square of only even, conditional dictionary comprehension\n",
    "dict_comp1 = {i:i**2 for i in range(10) if i%2 == 0}\n",
    "print(dict_comp1)"
   ]
  },
  {
   "cell_type": "code",
   "execution_count": 48,
   "metadata": {},
   "outputs": [
    {
     "name": "stdout",
     "output_type": "stream",
     "text": [
      "{1: 1, 2: 3, 3: 4, 4: 3, 5: 2, 6: 3}\n"
     ]
    }
   ],
   "source": [
    "# count the freq of the numbers in the list\n",
    "numbers = [1,2,2,2,3,3,3,3,4,4,5,5,6,6,6,4]\n",
    "freq = {}\n",
    "for number in numbers:\n",
    "    if number in freq:\n",
    "        freq[number] +=1\n",
    "    else:\n",
    "        freq[number] = 1\n",
    "print(freq)       \n",
    "    "
   ]
  },
  {
   "cell_type": "code",
   "execution_count": 49,
   "metadata": {},
   "outputs": [
    {
     "name": "stdout",
     "output_type": "stream",
     "text": [
      "{'a': 1, 'b': 3, 'c': 4}\n"
     ]
    }
   ],
   "source": [
    "# merge the dict\n",
    "dict1 = {'a':1, 'b':2}\n",
    "dict2 = {'b':3, 'c':4}\n",
    "merged_dict = {**dict1, **dict2}\n",
    "print(merged_dict)"
   ]
  }
 ],
 "metadata": {
  "kernelspec": {
   "display_name": "venv",
   "language": "python",
   "name": "python3"
  },
  "language_info": {
   "codemirror_mode": {
    "name": "ipython",
    "version": 3
   },
   "file_extension": ".py",
   "mimetype": "text/x-python",
   "name": "python",
   "nbconvert_exporter": "python",
   "pygments_lexer": "ipython3",
   "version": "3.12.0"
  }
 },
 "nbformat": 4,
 "nbformat_minor": 2
}
