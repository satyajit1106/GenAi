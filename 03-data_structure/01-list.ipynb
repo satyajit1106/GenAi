{
 "cells": [
  {
   "cell_type": "markdown",
   "metadata": {},
   "source": [
    "### list in python"
   ]
  },
  {
   "cell_type": "code",
   "execution_count": 2,
   "metadata": {},
   "outputs": [
    {
     "name": "stdout",
     "output_type": "stream",
     "text": [
      "Ford\n"
     ]
    }
   ],
   "source": [
    "cars = [\"Ford\", \"Volvo\", \"BMW\"]\n",
    "x = cars[0]\n",
    "print(x)"
   ]
  },
  {
   "cell_type": "markdown",
   "metadata": {},
   "source": [
    "### modifing list"
   ]
  },
  {
   "cell_type": "code",
   "execution_count": null,
   "metadata": {},
   "outputs": [
    {
     "name": "stdout",
     "output_type": "stream",
     "text": [
      "Toyota\n"
     ]
    }
   ],
   "source": [
    "# first it was ford now it is toyota\n",
    "cars[0] = \"Toyota\"\n",
    "print(cars[0])"
   ]
  },
  {
   "cell_type": "markdown",
   "metadata": {},
   "source": [
    "### length of the list"
   ]
  },
  {
   "cell_type": "code",
   "execution_count": 4,
   "metadata": {},
   "outputs": [
    {
     "name": "stdout",
     "output_type": "stream",
     "text": [
      "3\n"
     ]
    }
   ],
   "source": [
    "x = len(cars)\n",
    "print(x)"
   ]
  },
  {
   "cell_type": "markdown",
   "metadata": {},
   "source": [
    "### list methods"
   ]
  },
  {
   "cell_type": "code",
   "execution_count": 6,
   "metadata": {},
   "outputs": [
    {
     "name": "stdout",
     "output_type": "stream",
     "text": [
      "['Toyota', 'Volvo', 'BMW', 'BMW', 'lamborgini']\n"
     ]
    }
   ],
   "source": [
    "# append the new item at the end of the list\n",
    "cars.append(\"lamborgini\")\n",
    "print(cars)"
   ]
  },
  {
   "cell_type": "code",
   "execution_count": 8,
   "metadata": {},
   "outputs": [
    {
     "name": "stdout",
     "output_type": "stream",
     "text": [
      "['Toyota', 'mercedes', 'mercedes', 'Volvo', 'BMW', 'BMW', 'lamborgini']\n"
     ]
    }
   ],
   "source": [
    "cars.insert(1, \"mercedes\")\n",
    "print(cars)"
   ]
  },
  {
   "cell_type": "code",
   "execution_count": null,
   "metadata": {},
   "outputs": [
    {
     "name": "stdout",
     "output_type": "stream",
     "text": [
      "['Toyota', 'mercedes', 'Volvo', 'BMW', 'BMW', 'lamborgini']\n"
     ]
    }
   ],
   "source": [
    "# removing the first occurances of the item\n",
    "cars.remove(\"mercedes\")\n",
    "print(cars)"
   ]
  },
  {
   "cell_type": "code",
   "execution_count": 11,
   "metadata": {},
   "outputs": [
    {
     "name": "stdout",
     "output_type": "stream",
     "text": [
      "lamborgini\n",
      "['Toyota', 'mercedes', 'Volvo', 'BMW', 'BMW']\n"
     ]
    }
   ],
   "source": [
    "# pop, removes the last element from the list\n",
    "popped_element = cars.pop()\n",
    "print(popped_element)  # Output: Toyota\n",
    "print(cars)  # Output: ['Honda', 'Ford', 'Nissan']"
   ]
  },
  {
   "cell_type": "code",
   "execution_count": null,
   "metadata": {},
   "outputs": [
    {
     "name": "stdout",
     "output_type": "stream",
     "text": [
      "['Toyota', 'mercedes', 'lamborgini', 'lamborgini', 'Volvo', 'BMW', 'BMW']\n",
      "2\n"
     ]
    }
   ],
   "source": [
    "cars.insert(2, \"lamborgini\")\n",
    "print(cars)\n",
    "print(cars.count(\"lamborgini\")) # there are 2 lamborgini in the list"
   ]
  },
  {
   "cell_type": "code",
   "execution_count": 14,
   "metadata": {},
   "outputs": [
    {
     "name": "stdout",
     "output_type": "stream",
     "text": [
      "['BMW', 'BMW', 'Toyota', 'Volvo', 'lamborgini', 'lamborgini', 'mercedes']\n"
     ]
    }
   ],
   "source": [
    "cars.sort()\n",
    "print(cars)"
   ]
  },
  {
   "cell_type": "code",
   "execution_count": 15,
   "metadata": {},
   "outputs": [
    {
     "name": "stdout",
     "output_type": "stream",
     "text": [
      "['mercedes', 'lamborgini', 'lamborgini', 'Volvo', 'Toyota', 'BMW', 'BMW']\n"
     ]
    }
   ],
   "source": [
    "cars.reverse()\n",
    "print(cars)"
   ]
  },
  {
   "cell_type": "code",
   "execution_count": 17,
   "metadata": {},
   "outputs": [
    {
     "name": "stdout",
     "output_type": "stream",
     "text": [
      "[]\n"
     ]
    }
   ],
   "source": [
    "cars.clear()\n",
    "print(cars)"
   ]
  },
  {
   "cell_type": "code",
   "execution_count": 18,
   "metadata": {},
   "outputs": [
    {
     "name": "stdout",
     "output_type": "stream",
     "text": [
      "[3, 4, 5]\n",
      "[1, 2, 3, 4, 5]\n",
      "[6, 7, 8, 9, 10]\n",
      "[1, 3, 5, 7, 9]\n",
      "[10, 9, 8, 7, 6, 5, 4, 3, 2, 1]\n"
     ]
    }
   ],
   "source": [
    "# sliciing the list\n",
    "number = [1,2,3,4,5,6,7,8,9,10]\n",
    "print(number[2:5])\n",
    "print(number[:5])\n",
    "print(number[5:])\n",
    "print(number[::2])\n",
    "print(number[::-1])"
   ]
  },
  {
   "cell_type": "code",
   "execution_count": 19,
   "metadata": {},
   "outputs": [
    {
     "name": "stdout",
     "output_type": "stream",
     "text": [
      "1\n",
      "2\n",
      "3\n",
      "4\n",
      "5\n",
      "6\n",
      "7\n",
      "8\n",
      "9\n",
      "10\n"
     ]
    }
   ],
   "source": [
    "# iterate over the list\n",
    "for i in number:\n",
    "    print(i)"
   ]
  },
  {
   "cell_type": "code",
   "execution_count": 22,
   "metadata": {},
   "outputs": [
    {
     "name": "stdout",
     "output_type": "stream",
     "text": [
      "0 -> 11\n",
      "1 -> 12\n",
      "2 -> 13\n",
      "3 -> 14\n",
      "4 -> 15\n",
      "5 -> 16\n",
      "6 -> 17\n",
      "7 -> 18\n",
      "8 -> 19\n",
      "9 -> 20\n"
     ]
    }
   ],
   "source": [
    "for index, num in enumerate(number):\n",
    "    print(index,\"->\", num+10)"
   ]
  },
  {
   "cell_type": "markdown",
   "metadata": {},
   "source": [
    "### square of the n natural number"
   ]
  },
  {
   "cell_type": "code",
   "execution_count": 24,
   "metadata": {},
   "outputs": [
    {
     "name": "stdout",
     "output_type": "stream",
     "text": [
      "[0, 1, 4, 9, 16, 25, 36, 49, 64, 81, 100, 121, 144, 169, 196, 225, 256, 289, 324, 361, 400, 441, 484]\n"
     ]
    }
   ],
   "source": [
    "num = int(input(\"enter the number\"))\n",
    "lst = []\n",
    "for i in range(num):\n",
    "    lst.append(i**2)\n",
    "print(lst)    "
   ]
  },
  {
   "cell_type": "markdown",
   "metadata": {},
   "source": [
    "### list comprehension"
   ]
  },
  {
   "cell_type": "code",
   "execution_count": null,
   "metadata": {},
   "outputs": [
    {
     "data": {
      "text/plain": [
       "[0, 1, 4, 9, 16, 25, 36, 49, 64, 81]"
      ]
     },
     "execution_count": 26,
     "metadata": {},
     "output_type": "execute_result"
    }
   ],
   "source": [
    "# square of the number till the range\n",
    "[i**2 for i in range(10)]"
   ]
  },
  {
   "cell_type": "code",
   "execution_count": 27,
   "metadata": {},
   "outputs": [
    {
     "data": {
      "text/plain": [
       "[0, 4, 16, 36, 64, 100, 144, 196, 256, 324]"
      ]
     },
     "execution_count": 27,
     "metadata": {},
     "output_type": "execute_result"
    }
   ],
   "source": [
    "# square of the number which are even\n",
    "[i**2 for i in range(20) if i%2 == 0]\n"
   ]
  },
  {
   "cell_type": "code",
   "execution_count": 31,
   "metadata": {},
   "outputs": [
    {
     "data": {
      "text/plain": [
       "[[1, 'a'],\n",
       " [1, 'b'],\n",
       " [1, 'c'],\n",
       " [2, 'a'],\n",
       " [2, 'b'],\n",
       " [2, 'c'],\n",
       " [3, 'a'],\n",
       " [3, 'b'],\n",
       " [3, 'c']]"
      ]
     },
     "execution_count": 31,
     "metadata": {},
     "output_type": "execute_result"
    }
   ],
   "source": [
    "# nested list comprehension\n",
    "lst1 = [1,2,3]\n",
    "lst2 = ['a', 'b', 'c']\n",
    "[ [i,j] for i in lst1 for j in lst2]"
   ]
  },
  {
   "cell_type": "code",
   "execution_count": null,
   "metadata": {},
   "outputs": [
    {
     "name": "stdout",
     "output_type": "stream",
     "text": [
      "[5, 6, 3, 3, 3]\n"
     ]
    }
   ],
   "source": [
    "# list comprehension with function call\n",
    "words = [\"hello\", \"python\", \"how\", \"are\", \"you\"]\n",
    "lengths = [len(word) for word in words] # it will iterate the word in the words and for each word it will call the len function and print the length of the word\n",
    "print(lengths)"
   ]
  },
  {
   "cell_type": "code",
   "execution_count": 37,
   "metadata": {},
   "outputs": [
    {
     "data": {
      "text/plain": [
       "[['even', 0, 0, 0],\n",
       " ['even', 1, 0, 1],\n",
       " ['even', 2, 0, 2],\n",
       " ['even', 3, 0, 3],\n",
       " ['even', 4, 0, 4],\n",
       " ['even', 5, 0, 5],\n",
       " ['even', 6, 0, 6],\n",
       " ['even', 7, 0, 7],\n",
       " ['even', 8, 0, 8],\n",
       " ['even', 9, 0, 9],\n",
       " ['even', 2, 2, 0],\n",
       " ['even', 3, 2, 1],\n",
       " ['even', 4, 2, 2],\n",
       " ['even', 5, 2, 3],\n",
       " ['even', 6, 2, 4],\n",
       " ['even', 7, 2, 5],\n",
       " ['even', 8, 2, 6],\n",
       " ['even', 9, 2, 7],\n",
       " ['even', 10, 2, 8],\n",
       " ['even', 11, 2, 9],\n",
       " ['even', 4, 4, 0],\n",
       " ['even', 5, 4, 1],\n",
       " ['even', 6, 4, 2],\n",
       " ['even', 7, 4, 3],\n",
       " ['even', 8, 4, 4],\n",
       " ['even', 9, 4, 5],\n",
       " ['even', 10, 4, 6],\n",
       " ['even', 11, 4, 7],\n",
       " ['even', 12, 4, 8],\n",
       " ['even', 13, 4, 9],\n",
       " ['even', 6, 6, 0],\n",
       " ['even', 7, 6, 1],\n",
       " ['even', 8, 6, 2],\n",
       " ['even', 9, 6, 3],\n",
       " ['even', 10, 6, 4],\n",
       " ['even', 11, 6, 5],\n",
       " ['even', 12, 6, 6],\n",
       " ['even', 13, 6, 7],\n",
       " ['even', 14, 6, 8],\n",
       " ['even', 15, 6, 9],\n",
       " ['even', 8, 8, 0],\n",
       " ['even', 9, 8, 1],\n",
       " ['even', 10, 8, 2],\n",
       " ['even', 11, 8, 3],\n",
       " ['even', 12, 8, 4],\n",
       " ['even', 13, 8, 5],\n",
       " ['even', 14, 8, 6],\n",
       " ['even', 15, 8, 7],\n",
       " ['even', 16, 8, 8],\n",
       " ['even', 17, 8, 9]]"
      ]
     },
     "execution_count": 37,
     "metadata": {},
     "output_type": "execute_result"
    }
   ],
   "source": [
    "[[\"even\", i+j, i, j] for i in range(10) for j in range(10) if i%2 == 0]"
   ]
  },
  {
   "cell_type": "code",
   "execution_count": null,
   "metadata": {},
   "outputs": [],
   "source": []
  }
 ],
 "metadata": {
  "kernelspec": {
   "display_name": "venv",
   "language": "python",
   "name": "python3"
  },
  "language_info": {
   "codemirror_mode": {
    "name": "ipython",
    "version": 3
   },
   "file_extension": ".py",
   "mimetype": "text/x-python",
   "name": "python",
   "nbconvert_exporter": "python",
   "pygments_lexer": "ipython3",
   "version": "3.12.0"
  }
 },
 "nbformat": 4,
 "nbformat_minor": 2
}
