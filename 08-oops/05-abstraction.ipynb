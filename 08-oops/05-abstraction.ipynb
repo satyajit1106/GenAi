{
 "cells": [
  {
   "cell_type": "markdown",
   "metadata": {},
   "source": [
    "### Abstraction"
   ]
  },
  {
   "cell_type": "code",
   "execution_count": null,
   "metadata": {},
   "outputs": [],
   "source": [
    "from abc import ABC, abstractmethod\n",
    "\n",
    "# base class\n",
    "class Vehicle(ABC):\n",
    "    def engine(self):\n",
    "        print(\"engine makes the sound\")\n",
    "        \n",
    "    @abstractmethod\n",
    "    def engine_type(self):\n",
    "        pass\n",
    "\n",
    "# derived class 1  \n",
    "# implementing the abstraction as abstractmethod could be implemented in the derived class as needed\n",
    "class car(Vehicle):\n",
    "    def engine_type(self):\n",
    "        print(\"working fine\")\n",
    "\n",
    "# function implementing the polymorphism   \n",
    "# engine_type is the method that is being called from the base class\n",
    "def operatable_vehicle(Vehicle):\n",
    "    Vehicle.engine_type()\n"
   ]
  },
  {
   "cell_type": "code",
   "execution_count": 13,
   "metadata": {},
   "outputs": [
    {
     "name": "stdout",
     "output_type": "stream",
     "text": [
      "working fine\n"
     ]
    }
   ],
   "source": [
    "carO = car()\n",
    "operatable_vehicle(carO)"
   ]
  }
 ],
 "metadata": {
  "kernelspec": {
   "display_name": "venv",
   "language": "python",
   "name": "python3"
  },
  "language_info": {
   "codemirror_mode": {
    "name": "ipython",
    "version": 3
   },
   "file_extension": ".py",
   "mimetype": "text/x-python",
   "name": "python",
   "nbconvert_exporter": "python",
   "pygments_lexer": "ipython3",
   "version": "3.12.0"
  }
 },
 "nbformat": 4,
 "nbformat_minor": 2
}
