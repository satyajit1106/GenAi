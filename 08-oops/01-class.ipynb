{
 "cells": [
  {
   "cell_type": "code",
   "execution_count": 1,
   "metadata": {},
   "outputs": [
    {
     "name": "stdout",
     "output_type": "stream",
     "text": [
      "<class '__main__.car'>\n"
     ]
    }
   ],
   "source": [
    "class car:\n",
    "    pass\n",
    "\n",
    "audi = car()\n",
    "print(type(audi))"
   ]
  },
  {
   "cell_type": "code",
   "execution_count": null,
   "metadata": {},
   "outputs": [
    {
     "name": "stdout",
     "output_type": "stream",
     "text": [
      "sibu\n",
      "2\n"
     ]
    }
   ],
   "source": [
    "# instance variable\n",
    "class dog:\n",
    "    \n",
    "    def __init__(self, name, age):\n",
    "        \"\"\" this is the constructor method that will be used to create a new dog object \"\"\"\n",
    "        self.name = name\n",
    "        self.age = age\n",
    "        \n",
    "germansephard = dog(\"sibu\", 2)\n",
    "print(germansephard.name)\n",
    "print(germansephard.age)"
   ]
  },
  {
   "cell_type": "code",
   "execution_count": null,
   "metadata": {},
   "outputs": [
    {
     "name": "stdout",
     "output_type": "stream",
     "text": [
      "lucy says woof\n"
     ]
    }
   ],
   "source": [
    "# instance method\n",
    "class dog:\n",
    "    \n",
    "    def __init__(self, name, age):\n",
    "        self.name = name\n",
    "        self.age = age\n",
    "        \n",
    "    def bark(self):\n",
    "        print(f\"{self.name} says woof\")\n",
    "        \n",
    "germansephard = dog(\"lucy\", 1)\n",
    "germansephard.bark()"
   ]
  },
  {
   "cell_type": "code",
   "execution_count": 21,
   "metadata": {},
   "outputs": [],
   "source": [
    "# creating the class for the bank account\n",
    "\n",
    "class bank:\n",
    "    def __init__(self, name, balance=0):\n",
    "        self.name = name\n",
    "        self.balance = balance\n",
    "    \n",
    "    def deposit(self, amount):\n",
    "        self.balance += amount\n",
    "        print(f\"deposited amount = {amount} into {self.name} account current balance = {self.balance} \")\n",
    "        \n",
    "    def withdraw(self, amount):\n",
    "        if amount > self.balance:\n",
    "            print(\"Insufficient Balance\")\n",
    "        else:\n",
    "            self.balance -= amount\n",
    "            print(f\"withdraw amout = {amount} and current balance = {self.balance}\")\n",
    "            \n",
    "    def check_balance(self):\n",
    "        print(f\"Available balance = {self.balance}\")"
   ]
  },
  {
   "cell_type": "code",
   "execution_count": 22,
   "metadata": {},
   "outputs": [
    {
     "name": "stdout",
     "output_type": "stream",
     "text": [
      "Available balance = 10000000\n",
      "None\n",
      "deposited amount = 200000 into satyajit account current balance = 10200000 \n",
      "None\n",
      "withdraw amout = 10000 and current balance = 10190000\n",
      "None\n"
     ]
    }
   ],
   "source": [
    "IDBI = bank(\"satyajit\", 10000000)\n",
    "\n",
    "print(IDBI.check_balance())  \n",
    "print(IDBI.deposit(200000))\n",
    "print(IDBI.withdraw(10000))"
   ]
  }
 ],
 "metadata": {
  "kernelspec": {
   "display_name": "venv",
   "language": "python",
   "name": "python3"
  },
  "language_info": {
   "codemirror_mode": {
    "name": "ipython",
    "version": 3
   },
   "file_extension": ".py",
   "mimetype": "text/x-python",
   "name": "python",
   "nbconvert_exporter": "python",
   "pygments_lexer": "ipython3",
   "version": "3.12.0"
  }
 },
 "nbformat": 4,
 "nbformat_minor": 2
}
