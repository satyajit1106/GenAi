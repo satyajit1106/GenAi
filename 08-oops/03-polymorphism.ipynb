{
 "cells": [
  {
   "cell_type": "code",
   "execution_count": 1,
   "metadata": {},
   "outputs": [
    {
     "name": "stdout",
     "output_type": "stream",
     "text": [
      "meow !\n",
      "woof !\n"
     ]
    }
   ],
   "source": [
    "# method overriding\n",
    "\n",
    "class Animal:\n",
    "    def speak(self):\n",
    "        return \"animal voice\"\n",
    "    \n",
    "class Dog(Animal):\n",
    "    def speak(self):\n",
    "        return \"woof !\"\n",
    "    \n",
    "class Cat(Animal):\n",
    "    def speak(self):\n",
    "        return \"meow !\"\n",
    "    \n",
    "dog = Dog()\n",
    "cat = Cat()\n",
    "print(cat.speak())\n",
    "print(dog.speak())"
   ]
  },
  {
   "cell_type": "code",
   "execution_count": 17,
   "metadata": {},
   "outputs": [],
   "source": [
    "# polymorphism with functions and methods\n",
    "# eak hi method ke bohot roop hai, jiske saath hai uska features ko darshayaga\n",
    "\n",
    "class shape():\n",
    "    def area(self):\n",
    "        return \"it gives the area of the shapes\"\n",
    "    \n",
    "class rectangle(shape):\n",
    "    def __init__(self, l, b):\n",
    "        self.l = l\n",
    "        self.b = b\n",
    "        \n",
    "    def area(self):\n",
    "        return self.l * self.b\n",
    "    \n",
    "class circle(shape):\n",
    "    def __init__(self, r):\n",
    "        self.r = r\n",
    "        \n",
    "    def area(self):\n",
    "        return 3.14 * self.r * self.r\n",
    "    \n",
    "def area(shape):\n",
    "    print(f\"the area is {shape.area()}\")"
   ]
  },
  {
   "cell_type": "code",
   "execution_count": 20,
   "metadata": {},
   "outputs": [
    {
     "name": "stdout",
     "output_type": "stream",
     "text": [
      "the area is 20\n",
      "None\n",
      "the area is 153.86\n",
      "None\n"
     ]
    }
   ],
   "source": [
    "rect = rectangle(4,5)\n",
    "circ = circle(7)\n",
    "\n",
    "print(area(rect))\n",
    "print(area(circ))\n"
   ]
  },
  {
   "cell_type": "code",
   "execution_count": 2,
   "metadata": {},
   "outputs": [],
   "source": [
    "# define the abstract class \n",
    "\n",
    "from abc import ABC, abstractmethod\n",
    "\n",
    "# abstract class is something which is completely empty \n",
    "\n",
    "# base class\n",
    "class vehicle(ABC):\n",
    "    @abstractmethod\n",
    "    def start_engine(self):\n",
    "        pass\n",
    "    \n",
    "# derived class 1\n",
    "class Car(vehicle):\n",
    "    def start_engine(self):\n",
    "        return \"car engine started\"\n",
    "    \n",
    "# derived class 2\n",
    "class motarcycle(vehicle):\n",
    "    def start_engine(self):\n",
    "        return \"motarcycle engine started\"\n",
    "    \n",
    "# function demonstrating polymorphism\n",
    "def start_vehicle(vehicle):\n",
    "    print(vehicle.start_engine()) \n",
    "    "
   ]
  },
  {
   "cell_type": "code",
   "execution_count": null,
   "metadata": {},
   "outputs": [
    {
     "name": "stdout",
     "output_type": "stream",
     "text": [
      "car engine started\n",
      "motarcycle engine started\n"
     ]
    }
   ],
   "source": [
    "# initilizing the object to the class\n",
    "car = Car()\n",
    "motarcycleO = motarcycle()\n",
    "start_vehicle(car)\n",
    "start_vehicle(motarcycleO)\n",
    "\n",
    "# here a empty class is created called vehicle \n",
    "# it is derived by the base class and \" start_vehicle \" is used to show the polymorphism\n",
    "# as the object of the derived class is created. then we pass it into the \" start_vehicle \" function it will call the method of the base class \"as the base class is empty it will redirect to the same function of that derived class\" "
   ]
  }
 ],
 "metadata": {
  "kernelspec": {
   "display_name": "venv",
   "language": "python",
   "name": "python3"
  },
  "language_info": {
   "codemirror_mode": {
    "name": "ipython",
    "version": 3
   },
   "file_extension": ".py",
   "mimetype": "text/x-python",
   "name": "python",
   "nbconvert_exporter": "python",
   "pygments_lexer": "ipython3",
   "version": "3.12.0"
  }
 },
 "nbformat": 4,
 "nbformat_minor": 2
}
