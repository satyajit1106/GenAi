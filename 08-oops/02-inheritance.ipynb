{
 "cells": [
  {
   "cell_type": "code",
   "execution_count": 26,
   "metadata": {},
   "outputs": [],
   "source": [
    "class car():\n",
    "    def __init__(self, color, model, year):\n",
    "        self.color = color\n",
    "        self.model = model\n",
    "        self.year = year\n",
    "    \n",
    "    def carName(self, name):\n",
    "        self.name = name\n",
    "        print(f\"{self.name} = {self.color}, {self.model}, {self.year}\")"
   ]
  },
  {
   "cell_type": "code",
   "execution_count": 38,
   "metadata": {},
   "outputs": [],
   "source": [
    "class Tesla(car):\n",
    "    \"\"\" Tesla is inheriting the attributes of the car \"\"\"\n",
    "    def __init__(self, color, model, year, is_selfdriving):\n",
    "        self.is_selfdriving = is_selfdriving\n",
    "        super().__init__(color, model, year)\n",
    "    \n",
    "    def nature_of_drive(self):\n",
    "        print(f\"self driving is {self.is_selfdriving} for this car.\")"
   ]
  },
  {
   "cell_type": "code",
   "execution_count": null,
   "metadata": {},
   "outputs": [
    {
     "name": "stdout",
     "output_type": "stream",
     "text": [
      "mercedese = blue, AMG, 2021\n"
     ]
    }
   ],
   "source": [
    "# mercedese object hai class car ka\n",
    "# attribute agar initilize kiye hai to usko pass bhi karna hoga\n",
    "\n",
    "mercedese = car(\"blue\", \"AMG\", 2021)\n",
    "mercedese.carName(\"mercedese\")"
   ]
  },
  {
   "cell_type": "code",
   "execution_count": 39,
   "metadata": {},
   "outputs": [
    {
     "name": "stdout",
     "output_type": "stream",
     "text": [
      "self driving is NOT for this car.\n"
     ]
    }
   ],
   "source": [
    "# tesla is the child class of the car super class\n",
    "Tesla = Tesla(\"green\", \"tesla\", 2005, \"NOT\")\n",
    "Tesla.nature_of_drive()"
   ]
  },
  {
   "cell_type": "code",
   "execution_count": null,
   "metadata": {},
   "outputs": [],
   "source": [
    "# Multiple Inheritance\n",
    "\n",
    "class animal:\n",
    "    def __init__(self, name):\n",
    "        self.name = name\n",
    "        \n",
    "\n",
    "class Pet():\n",
    "    def __init__(self, owner):\n",
    "        self.owner = owner\n",
    "        \n",
    "# derived class\n",
    "class Dog(animal, Pet):\n",
    "    def __init__(self, name, owner):\n",
    "        animal.__init__(self, name) \n",
    "        Pet.__init__(self, owner) \n",
    "        \n",
    "    def speak(self):\n",
    "        print(f\"{self.name} says woof\")"
   ]
  },
  {
   "cell_type": "code",
   "execution_count": null,
   "metadata": {},
   "outputs": [
    {
     "name": "stdout",
     "output_type": "stream",
     "text": [
      "dogesh says woof\n",
      "None\n"
     ]
    }
   ],
   "source": [
    "# object ka naame alag banao to be safe\n",
    "\n",
    "d = Dog(\"dogesh\", \"satyajit\")\n",
    "print(d.speak())"
   ]
  }
 ],
 "metadata": {
  "kernelspec": {
   "display_name": "venv",
   "language": "python",
   "name": "python3"
  },
  "language_info": {
   "codemirror_mode": {
    "name": "ipython",
    "version": 3
   },
   "file_extension": ".py",
   "mimetype": "text/x-python",
   "name": "python",
   "nbconvert_exporter": "python",
   "pygments_lexer": "ipython3",
   "version": "3.12.0"
  }
 },
 "nbformat": 4,
 "nbformat_minor": 2
}
