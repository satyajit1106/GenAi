{
 "cells": [
  {
   "cell_type": "code",
   "execution_count": 2,
   "metadata": {},
   "outputs": [
    {
     "name": "stdout",
     "output_type": "stream",
     "text": [
      "['01-file_operation.ipynb', '02-filepath.ipynb', 'example.txt', 'file.txt']\n"
     ]
    }
   ],
   "source": [
    "import os\n",
    "list = os.listdir()\n",
    "print(list)"
   ]
  },
  {
   "cell_type": "code",
   "execution_count": 3,
   "metadata": {},
   "outputs": [
    {
     "name": "stdout",
     "output_type": "stream",
     "text": [
      "folder\\operation.txt\n"
     ]
    }
   ],
   "source": [
    "dir_name = 'folder'\n",
    "file_name = 'operation.txt'\n",
    "full_path = os.path.join(dir_name, file_name)\n",
    "print(full_path)"
   ]
  },
  {
   "cell_type": "code",
   "execution_count": 4,
   "metadata": {},
   "outputs": [
    {
     "name": "stdout",
     "output_type": "stream",
     "text": [
      "c:\\Users\\Satyajit Patra\\Documents\\Python Udemy\\06-file_handling\\folder\\operation.txt\n"
     ]
    }
   ],
   "source": [
    "dir_name = 'folder'\n",
    "file_name = 'operation.txt'\n",
    "full_path = os.path.join(os.getcwd(),dir_name, file_name)\n",
    "print(full_path)"
   ]
  },
  {
   "cell_type": "code",
   "execution_count": 7,
   "metadata": {},
   "outputs": [
    {
     "name": "stdout",
     "output_type": "stream",
     "text": [
      "c:\\Users\\Satyajit Patra\\Documents\\Python Udemy\\06-file_handling\\realative_path\n"
     ]
    }
   ],
   "source": [
    "realative_path = 'file.txt'\n",
    "absolute_path = os.path.abspath('realative_path')\n",
    "print(absolute_path)"
   ]
  }
 ],
 "metadata": {
  "kernelspec": {
   "display_name": "venv",
   "language": "python",
   "name": "python3"
  },
  "language_info": {
   "codemirror_mode": {
    "name": "ipython",
    "version": 3
   },
   "file_extension": ".py",
   "mimetype": "text/x-python",
   "name": "python",
   "nbconvert_exporter": "python",
   "pygments_lexer": "ipython3",
   "version": "3.12.0"
  }
 },
 "nbformat": 4,
 "nbformat_minor": 2
}
